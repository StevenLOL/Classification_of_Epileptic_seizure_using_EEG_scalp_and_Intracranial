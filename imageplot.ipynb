{
 "cells": [
  {
   "cell_type": "code",
   "execution_count": 1,
   "metadata": {
    "collapsed": true
   },
   "outputs": [],
   "source": [
    "import matplotlib.pyplot as plt"
   ]
  },
  {
   "cell_type": "code",
   "execution_count": 4,
   "metadata": {
    "collapsed": true
   },
   "outputs": [],
   "source": [
    "def mat_plt(mat):\n",
    "    fig = plt.figure()\n",
    "    for i in range(1,29):\n",
    "        plt.subplot(8,4,i)\n",
    "        plt.plot(mat[:,i])\n",
    "        fig.subplots_adjust(hspace=0)\n",
    "        fig.tight_layout(pad=3.0, w_pad=3.0, h_pad=3.0)\n",
    "        fig.set_figwidth(30)\n",
    "        fig.set_figheight(30)\n",
    "        plt.axis('off')\n",
    "        sleep(0.01)\n",
    "    plt.show()"
   ]
  },
  {
   "cell_type": "code",
   "execution_count": 5,
   "metadata": {
    "collapsed": true
   },
   "outputs": [],
   "source": [
    "def sub_mat_plot(mat1,mat2):\n",
    "    fig = plt.figure()\n",
    "    plt.subplot(1,2,1)\n",
    "    plt.plot(mat)\n",
    "    plt.subplot(1,2,2)\n",
    "    plt.plot(rms)\n",
    "    plt.show()"
   ]
  },
  {
   "cell_type": "code",
   "execution_count": null,
   "metadata": {
    "collapsed": true
   },
   "outputs": [],
   "source": []
  }
 ],
 "metadata": {
  "kernelspec": {
   "display_name": "Python [Root]",
   "language": "python",
   "name": "Python [Root]"
  },
  "language_info": {
   "codemirror_mode": {
    "name": "ipython",
    "version": 3
   },
   "file_extension": ".py",
   "mimetype": "text/x-python",
   "name": "python",
   "nbconvert_exporter": "python",
   "pygments_lexer": "ipython3",
   "version": "3.5.2"
  }
 },
 "nbformat": 4,
 "nbformat_minor": 0
}
